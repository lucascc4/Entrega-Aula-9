{
 "cells": [
  {
   "cell_type": "markdown",
   "metadata": {},
   "source": [
    "**Aula 9 - Log Normal**\n",
    "Lucas Costanzo e Vitor Shoji"
   ]
  },
  {
   "cell_type": "code",
   "execution_count": 1,
   "metadata": {
    "collapsed": true
   },
   "outputs": [],
   "source": [
    "%matplotlib inline\n",
    "\n",
    "import os\n",
    "import matplotlib.pyplot as plt\n",
    "import pandas as pd\n",
    "from scipy import stats\n",
    "from numpy import linspace"
   ]
  },
  {
   "cell_type": "code",
   "execution_count": 2,
   "metadata": {
    "collapsed": false
   },
   "outputs": [
    {
     "data": {
      "text/plain": [
       "[<matplotlib.lines.Line2D at 0x1092d7c50>]"
      ]
     },
     "execution_count": 2,
     "metadata": {},
     "output_type": "execute_result"
    },
    {
     "data": {
      "image/png": "[encoded data removed]",
      "text/plain": [
       "<matplotlib.figure.Figure at 0x1092759e8>"
      ]
     },
     "metadata": {},
     "output_type": "display_data"
    }
   ],
   "source": [
    "#2.1\n",
    "#lognorm.pdf(x, s) = 1 / (s*x*sqrt(2*pi)) * exp(-1/2*(log(x)/s)**2)\n",
    "x = linspace(0, 3, 100)\n",
    "a = []\n",
    "b = []\n",
    "c = []\n",
    "for i in x:\n",
    "    a.append(stats.lognorm.pdf(i, 1/8))\n",
    "    b.append(stats.lognorm.pdf(i, 1))\n",
    "    c.append(stats.lognorm.pdf(i, 10))\n",
    "\n",
    "plt.plot(x, a)\n",
    "plt.plot(x, b)\n",
    "plt.plot(x, c)    "
   ]
  },
  {
   "cell_type": "code",
   "execution_count": 3,
   "metadata": {
    "collapsed": false
   },
   "outputs": [
    {
     "data": {
      "text/plain": [
       "[<matplotlib.lines.Line2D at 0x1093455c0>]"
      ]
     },
     "execution_count": 3,
     "metadata": {},
     "output_type": "execute_result"
    },
    {
     "data": {
      "image/png": "[encoded data removed]",
      "text/plain": [
       "<matplotlib.figure.Figure at 0x1092fb048>"
      ]
     },
     "metadata": {},
     "output_type": "display_data"
    }
   ],
   "source": [
    "x = linspace(0, 10, 100)\n",
    "d = []\n",
    "e = []\n",
    "f = []\n",
    "for i in x:\n",
    "    d.append(stats.lognorm.cdf(i, 1/8))\n",
    "    e.append(stats.lognorm.cdf(i, 1))\n",
    "    f.append(stats.lognorm.cdf(i, 10))\n",
    "    \n",
    "plt.plot(x, d)\n",
    "plt.plot(x, e)\n",
    "plt.plot(x, f)\n"
   ]
  },
  {
   "cell_type": "code",
   "execution_count": 4,
   "metadata": {
    "collapsed": true
   },
   "outputs": [],
   "source": [
    "#2.2\n",
    "#lognorm.pdf(x, s) = 1 / (s*x*sqrt(2*pi)) * exp(-1/2*(log(x)/s)**2)"
   ]
  },
  {
   "cell_type": "markdown",
   "metadata": {},
   "source": [
    "2.3\n",
    "\n",
    "\n",
    "\n",
    "\n",
    "s: $ \\sigma \\ > 0 $ é o desvio padrão.\n",
    "\n",
    "\n",
    "\n",
    "m: $ \\mu\\in\\mathbb{R} $ é a média do logaritmo do tempo de falha\n"
   ]
  },
  {
   "cell_type": "code",
   "execution_count": 5,
   "metadata": {
    "collapsed": true
   },
   "outputs": [],
   "source": [
    "#2.4\n",
    "#E(x)= exp(m+(s**2/2))\n",
    "#Var(x)= exp(2*m+s**2)*(exp(s**2)-1)"
   ]
  },
  {
   "cell_type": "markdown",
   "metadata": {},
   "source": [
    "2.5\n",
    "\n",
    "A distribuição Log-Normal é muito usada para reprensentar o tempo de vida de produtos e materiais, por exemplo fadiga de metais, semicondutores, diodos e isolação elétrica"
   ]
  },
  {
   "cell_type": "markdown",
   "metadata": {},
   "source": [
    "2.6\n",
    "\n",
    "A distribuição Log-Normal é útil para inferências estatísticas que possuem uma curva que se aproxima de uma curva logarítmica."
   ]
  },
  {
   "cell_type": "code",
   "execution_count": null,
   "metadata": {
    "collapsed": true
   },
   "outputs": [],
   "source": []
  }
 ],
 "metadata": {
  "kernelspec": {
   "display_name": "Python 3",
   "language": "python",
   "name": "python3"
  },
  "language_info": {
   "codemirror_mode": {
    "name": "ipython",
    "version": 3
   },
   "file_extension": ".py",
   "mimetype": "text/x-python",
   "name": "python",
   "nbconvert_exporter": "python",
   "pygments_lexer": "ipython3",
   "version": "3.4.3"
  }
 },
 "nbformat": 4,
 "nbformat_minor": 0
}
